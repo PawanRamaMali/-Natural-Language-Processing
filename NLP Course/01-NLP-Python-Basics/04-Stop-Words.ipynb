{
 "cells": [
  {
   "cell_type": "markdown",
   "metadata": {},
   "source": [
    "# Stop Words\n",
    "Words like \"a\" and \"the\" appear so frequently that they don't require tagging as thoroughly as nouns, verbs and modifiers. We call these *stop words*, and they can be filtered from the text to be processed. spaCy holds a built-in list of some 305 English stop words."
   ]
  },
  {
   "cell_type": "code",
   "execution_count": 1,
   "metadata": {},
   "outputs": [],
   "source": [
    "# Perform standard imports:\n",
    "import spacy\n",
    "nlp = spacy.load('en_core_web_sm')"
   ]
  },
  {
   "cell_type": "code",
   "execution_count": 2,
   "metadata": {},
   "outputs": [
    {
     "name": "stdout",
     "output_type": "stream",
     "text": [
      "{'along', 'why', 'whoever', 'few', 'alone', '‘s', 'go', 'more', 'does', 'both', 'their', 'some', 'whereby', 'us', 'therein', 'have', 'anyway', 'always', 'eight', 'least', 'twelve', 'had', 'part', 'ca', 'which', 'whose', 'without', 'thereby', 'each', 'would', 'same', 'another', '‘ve', \"'s\", 'been', 'can', 'were', 'sixty', 'except', 'most', 'put', 'his', '‘m', 'elsewhere', 'them', 'done', 'at', 'thru', 'she', 'else', 'whenever', \"'d\", 'indeed', 'onto', 'no', 'for', 'name', 'there', 'all', 'other', 'between', 'using', 'show', 'across', 'six', 'very', 'less', 'those', 'above', 'former', 'you', 'anywhere', 'keep', 'otherwise', '’d', 'moreover', 'although', 'beyond', 'before', 'afterwards', 'please', 'several', 'bottom', 'me', 'that', 'even', 'nor', '’ll', \"n't\", 'somewhere', 'did', 'thereafter', 'nothing', 'ourselves', 'meanwhile', 'regarding', 'on', 'thus', 'once', 'perhaps', 'within', \"'ll\", 'everything', 'cannot', 'hundred', 'though', 'amongst', 'am', 'last', 'ten', 'mine', 'they', 'not', 'two', 'against', 'here', 'doing', 'our', 'formerly', 'wherein', 'yours', 'my', 'n‘t', 'neither', 'almost', 'i', 'through', 'becomes', 'say', 'this', 'whence', 'either', 'such', 'until', 'seeming', 'five', 'because', 'really', 'amount', 'then', 'thereupon', 'beside', 'somehow', 'unless', 'whereafter', 'whether', 'up', 'be', 'none', 'everyone', 'whither', 'when', 'eleven', 'by', 'together', 'used', 'in', 'hereby', 'herself', 'throughout', '‘ll', 'must', 'toward', 'herein', 'front', 'various', 'also', 'the', 'call', 'nevertheless', 'mostly', 'fifteen', 'yourself', 'noone', 'her', 'becoming', 'where', 'latterly', 'among', 'third', 'everywhere', 'yourselves', 'thence', 'whereupon', 'became', 'what', 'others', 'besides', 'with', 'seem', 'than', '’ve', 'how', 'made', 'well', 'nowhere', \"'m\", 'may', 'next', '’m', 'still', 'its', 'but', 'while', 'out', 'beforehand', 'themselves', 'never', 'your', 'now', '‘re', 'fifty', 'is', 'anyone', 'ever', 'will', 'it', 'of', 'full', 'a', 'namely', 'empty', 'during', 'below', 'down', 'due', 'just', 'myself', 'anything', 'sometimes', 'latter', 'get', 'behind', 'hers', 'from', 'around', 'himself', 'being', 'forty', 'enough', 'might', 'only', 'often', 'someone', 'again', 'too', 'side', 'an', 'back', 'any', 'top', 'under', 'upon', 'n’t', 'every', 'make', 'whatever', 'do', 'should', 'nine', 'hereupon', 'three', 'has', 'are', 'could', 'many', 'sometime', 'give', 'was', 'over', \"'re\", '’re', 'much', 'off', 'whom', 'whole', '‘d', 're', 'become', 'into', 'hereafter', 'towards', 'as', 'per', 'first', 'itself', 'he', 'to', 'since', 'rather', 'anyhow', 'take', 'own', 'these', 'see', 'serious', 'seemed', 'and', 'seems', 'four', 'move', 'so', 'therefore', 'further', \"'ve\", 'via', 'after', 'something', 'one', 'or', 'we', 'however', 'already', 'him', 'ours', 'quite', 'about', 'wherever', '’s', 'if', 'whereas', 'yet', 'nobody', 'twenty', 'who', 'hence'}\n"
     ]
    }
   ],
   "source": [
    "# Print the set of spaCy's default stop words (remember that sets are unordered):\n",
    "print(nlp.Defaults.stop_words)"
   ]
  },
  {
   "cell_type": "code",
   "execution_count": 3,
   "metadata": {},
   "outputs": [
    {
     "data": {
      "text/plain": [
       "326"
      ]
     },
     "execution_count": 3,
     "metadata": {},
     "output_type": "execute_result"
    }
   ],
   "source": [
    "len(nlp.Defaults.stop_words)"
   ]
  },
  {
   "cell_type": "markdown",
   "metadata": {},
   "source": [
    "## To see if a word is a stop word"
   ]
  },
  {
   "cell_type": "code",
   "execution_count": 4,
   "metadata": {},
   "outputs": [
    {
     "data": {
      "text/plain": [
       "True"
      ]
     },
     "execution_count": 4,
     "metadata": {},
     "output_type": "execute_result"
    }
   ],
   "source": [
    "nlp.vocab['myself'].is_stop"
   ]
  },
  {
   "cell_type": "code",
   "execution_count": 5,
   "metadata": {},
   "outputs": [
    {
     "data": {
      "text/plain": [
       "False"
      ]
     },
     "execution_count": 5,
     "metadata": {},
     "output_type": "execute_result"
    }
   ],
   "source": [
    "nlp.vocab['mystery'].is_stop"
   ]
  },
  {
   "cell_type": "markdown",
   "metadata": {},
   "source": [
    "## To add a stop word\n",
    "There may be times when you wish to add a stop word to the default set. Perhaps you decide that `'btw'` (common shorthand for \"by the way\") should be considered a stop word."
   ]
  },
  {
   "cell_type": "code",
   "execution_count": 6,
   "metadata": {},
   "outputs": [],
   "source": [
    "# Add the word to the set of stop words. Use lowercase!\n",
    "nlp.Defaults.stop_words.add('btw')\n",
    "\n",
    "# Set the stop_word tag on the lexeme\n",
    "nlp.vocab['btw'].is_stop = True"
   ]
  },
  {
   "cell_type": "code",
   "execution_count": 7,
   "metadata": {},
   "outputs": [
    {
     "data": {
      "text/plain": [
       "327"
      ]
     },
     "execution_count": 7,
     "metadata": {},
     "output_type": "execute_result"
    }
   ],
   "source": [
    "len(nlp.Defaults.stop_words)"
   ]
  },
  {
   "cell_type": "code",
   "execution_count": 8,
   "metadata": {},
   "outputs": [
    {
     "data": {
      "text/plain": [
       "True"
      ]
     },
     "execution_count": 8,
     "metadata": {},
     "output_type": "execute_result"
    }
   ],
   "source": [
    "nlp.vocab['btw'].is_stop"
   ]
  },
  {
   "cell_type": "markdown",
   "metadata": {},
   "source": [
    "<font color=green>When adding stop words, always use lowercase. Lexemes are converted to lowercase before being added to **vocab**.</font>"
   ]
  },
  {
   "cell_type": "markdown",
   "metadata": {},
   "source": [
    "## To remove a stop word\n",
    "Alternatively, you may decide that `'beyond'` should not be considered a stop word."
   ]
  },
  {
   "cell_type": "code",
   "execution_count": 9,
   "metadata": {},
   "outputs": [],
   "source": [
    "# Remove the word from the set of stop words\n",
    "nlp.Defaults.stop_words.remove('beyond')\n",
    "\n",
    "# Remove the stop_word tag from the lexeme\n",
    "nlp.vocab['beyond'].is_stop = False"
   ]
  },
  {
   "cell_type": "code",
   "execution_count": 10,
   "metadata": {},
   "outputs": [
    {
     "data": {
      "text/plain": [
       "326"
      ]
     },
     "execution_count": 10,
     "metadata": {},
     "output_type": "execute_result"
    }
   ],
   "source": [
    "len(nlp.Defaults.stop_words)"
   ]
  },
  {
   "cell_type": "code",
   "execution_count": 11,
   "metadata": {},
   "outputs": [
    {
     "data": {
      "text/plain": [
       "False"
      ]
     },
     "execution_count": 11,
     "metadata": {},
     "output_type": "execute_result"
    }
   ],
   "source": [
    "nlp.vocab['beyond'].is_stop"
   ]
  },
  {
   "cell_type": "markdown",
   "metadata": {},
   "source": [
    "Great! Now you should be able to access spaCy's default set of stop words, and add or remove stop words as needed.\n",
    "## Next up: Vocabulary and Matching"
   ]
  }
 ],
 "metadata": {
  "kernelspec": {
   "display_name": "Python 3 (ipykernel)",
   "language": "python",
   "name": "python3"
  },
  "language_info": {
   "codemirror_mode": {
    "name": "ipython",
    "version": 3
   },
   "file_extension": ".py",
   "mimetype": "text/x-python",
   "name": "python",
   "nbconvert_exporter": "python",
   "pygments_lexer": "ipython3",
   "version": "3.8.11"
  }
 },
 "nbformat": 4,
 "nbformat_minor": 4
}
